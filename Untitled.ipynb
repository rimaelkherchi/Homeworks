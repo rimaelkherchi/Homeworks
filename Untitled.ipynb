{
 "cells": [
  {
   "cell_type": "markdown",
   "id": "271ceef0",
   "metadata": {},
   "source": [
    "# EXERCISE 1"
   ]
  },
  {
   "cell_type": "markdown",
   "id": "0f754e74",
   "metadata": {},
   "source": [
    "The ideal gas law relates the pressure (P), volume (V), the absolute temperature (T) and the amount of gas in moles (n) at one point.\n",
    "\n",
    "The general gas law formula allows you to compare the characteristics of a gas in two different situations. However, this formula is not useful when one wants to determine the characteristics of a gas at a precise moment. We can modify the formula of the general gas law by introducing a constant of proportionality. This constant, symbolized by the letter R, gathers all the constants of the simple gas laws. So, mathematically, we write the ideal gas law as follows:\n",
    "\n",
    "                                              PV=nRT\n",
    "\n",
    "Where :\n",
    "<br>P represents the pressure (in kPa)\n",
    "<br>V represents the volume (in  L)\n",
    "<br>n represents the quantity of gas (in mol)\n",
    "<br>R=8.314 represents the ideal gas constant (in kPa.L/mol.K)\n",
    "<br>T represents the absolute temperature (in K)"
   ]
  },
  {
   "cell_type": "markdown",
   "id": "2f5428ac",
   "metadata": {},
   "source": [
    "- Calculate the temperature in celsius(°C) using \"The Ideal Gas Law\"."
   ]
  },
  {
   "cell_type": "code",
   "execution_count": 6,
   "id": "85c62c4e",
   "metadata": {},
   "outputs": [
    {
     "name": "stdout",
     "output_type": "stream",
     "text": [
      "insert the number of mol:5.50\n",
      "insert the volume occupied by the gas:84.4\n",
      "insert the pression:202.65\n",
      "The temperature in °C is:  (101.03853303300014, 15) °C\n"
     ]
    }
   ],
   "source": [
    "R=8.314\n",
    "n=float(input('insert the number of mol:'))\n",
    "V=float(input('insert the volume occupied by the gas:'))\n",
    "P=float(input('insert the pression:'))\n",
    "T=(P*V)/(n*R)\n",
    "T=(T-273,15)\n",
    "print('The temperature in °C is: ',T,'°C')"
   ]
  },
  {
   "cell_type": "markdown",
   "id": "a535c5f4",
   "metadata": {},
   "source": [
    "# EXERCISE 2"
   ]
  },
  {
   "cell_type": "markdown",
   "id": "c06cf7d7",
   "metadata": {},
   "source": [
    "The electrical resistance translates the property of a component to oppose the passage of an electric current (one of the causes of loss in line of electricity). It is often designated by the letter R and its unit of measurement is the ohm (symbol: Ω). It is linked to the notions of resistivity and electrical conductivity.\n",
    "\n",
    "The resistor is responsible for dissipating energy in the form of heat. This property is called the Joule effect. This heat production is sometimes a desired effect (heating resistors), sometimes a harmful effect (Joule losses) but often unavoidable.\n",
    "\n",
    "Association of resistors can be done in series or in parallel.\n",
    "<br>If the association is in series, the equivalent resistance R equals to:\n",
    "         R=R1+R2\n",
    "<br>If the association is in parallel, then the equivalent resistance R equals to:\n",
    "         R=(R1xR2)/(R1+R2)"
   ]
  },
  {
   "cell_type": "markdown",
   "id": "debb0247",
   "metadata": {},
   "source": [
    "- Calculate the equivalent resistance of three resistors R1, R2 and R3 associated in series."
   ]
  },
  {
   "cell_type": "code",
   "execution_count": 8,
   "id": "1a8f967c",
   "metadata": {},
   "outputs": [
    {
     "name": "stdout",
     "output_type": "stream",
     "text": [
      "insert the value of R1 10\n",
      "insert the value of R2 5\n",
      "insert the value of R3 2\n",
      "the equivalent resistance is 17.0 Ω\n"
     ]
    }
   ],
   "source": [
    "R1=float(input('insert the value of R1 '))\n",
    "R2=float(input('insert the value of R2 '))\n",
    "R3=float(input('insert the value of R3 '))\n",
    "R=R1+R2+R3\n",
    "print('the equivalent resistance is',R,'Ω')"
   ]
  },
  {
   "cell_type": "markdown",
   "id": "50f660e0",
   "metadata": {},
   "source": [
    "- Calculate the equivalent resistance of two resistors R1 and R2 associates in parallel;"
   ]
  },
  {
   "cell_type": "code",
   "execution_count": 10,
   "id": "91acc3b5",
   "metadata": {},
   "outputs": [
    {
     "name": "stdout",
     "output_type": "stream",
     "text": [
      "insert the value of R1 12\n",
      "insert the value of R2 4\n",
      "the equivalent resistance is 3.0 Ω\n"
     ]
    }
   ],
   "source": [
    "R1=float(input('insert the value of R1 '))\n",
    "R2=float(input('insert the value of R2 '))\n",
    "R=(R1*R2)/(R1+R2)\n",
    "print('the equivalent resistance is',R,'Ω')"
   ]
  },
  {
   "cell_type": "markdown",
   "id": "aa333135",
   "metadata": {},
   "source": [
    "# EXERCISE 3"
   ]
  },
  {
   "cell_type": "markdown",
   "id": "fb0539f4",
   "metadata": {},
   "source": [
    "- We will write a code that calculate the general mark between the midterm note and final note of a student and the letter equivalent to each mark based on the following system:\n",
    "<br>Marks between 0-60: F\n",
    "<br>Marks between 60-70: D\n",
    "<br>Marks between 70-80: C\n",
    "<br>Marks between 80-90: B\n",
    "<br>Marks above 90: A\n",
    "<br>The formula to calculate the general mark is: mark=40% midterm+60% final \n"
   ]
  },
  {
   "cell_type": "code",
   "execution_count": 19,
   "id": "8beff18d",
   "metadata": {},
   "outputs": [
    {
     "name": "stdout",
     "output_type": "stream",
     "text": [
      "insert midterm mark: 55\n",
      "insert final mark: 74\n",
      "the general mark is: 66.4\n",
      "the letter equivalent to the mark is: D\n"
     ]
    }
   ],
   "source": [
    "M=float(input('insert midterm mark: '))\n",
    "F=float(input('insert final mark: '))\n",
    "mark=(0.4*M)+(0.6*F)\n",
    "if mark>=0 and mark<60:\n",
    "    print('the general mark is:',mark)\n",
    "    print('the letter equivalent to the mark is: F')\n",
    "elif mark>=60 and mark<70:\n",
    "    print('the general mark is:',mark)\n",
    "    print('the letter equivalent to the mark is: D')\n",
    "elif mark>=70 and mark<80:\n",
    "    print('the general mark is:',mark)\n",
    "    print('the letter equivalent to the mark is: C')\n",
    "elif mark>=80 and mark<90:\n",
    "    print('the general mark is:',mark)\n",
    "    print('the letter equivalent to the mark is: B')\n",
    "elif mark<=90:\n",
    "    print('the general mark is:',mark)\n",
    "    print('the letter equivalent to the mark is: A')\n"
   ]
  }
 ],
 "metadata": {
  "kernelspec": {
   "display_name": "Python 3 (ipykernel)",
   "language": "python",
   "name": "python3"
  },
  "language_info": {
   "codemirror_mode": {
    "name": "ipython",
    "version": 3
   },
   "file_extension": ".py",
   "mimetype": "text/x-python",
   "name": "python",
   "nbconvert_exporter": "python",
   "pygments_lexer": "ipython3",
   "version": "3.9.13"
  }
 },
 "nbformat": 4,
 "nbformat_minor": 5
}
